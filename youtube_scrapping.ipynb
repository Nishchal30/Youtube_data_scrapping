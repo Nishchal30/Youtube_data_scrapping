{
 "cells": [
  {
   "cell_type": "code",
   "execution_count": 1,
   "metadata": {},
   "outputs": [],
   "source": [
    "import os, time\n",
    "import requests\n",
    "from selenium import webdriver\n",
    "from selenium.webdriver.common.by import By\n",
    "from selenium.webdriver.chrome.service import Service\n",
    "from selenium.webdriver.support.ui import WebDriverWait\n",
    "from selenium.webdriver.support import expected_conditions as EC"
   ]
  },
  {
   "cell_type": "code",
   "execution_count": 2,
   "metadata": {},
   "outputs": [],
   "source": [
    "chrome_service = Service(executable_path='chromedriver.exe')\n",
    "wd = webdriver.Chrome(service=chrome_service)\n",
    "sleep_between_interactions = 1"
   ]
  },
  {
   "cell_type": "code",
   "execution_count": 3,
   "metadata": {},
   "outputs": [],
   "source": [
    "query = (\"Krish naik\")\n",
    "url = \"https://www.youtube.com/results?search_query={}\".format(query.replace(\" \", \"\"))\n",
    "wd.get(url)\n",
    "time.sleep(10)\n",
    "video_url = wd.find_element(By.ID, \"main-link\").get_attribute(\"href\")\n",
    "wd.get(video_url + \"/videos\")"
   ]
  },
  {
   "cell_type": "code",
   "execution_count": null,
   "metadata": {},
   "outputs": [],
   "source": [
    "def scroll_to_end(wd):\n",
    "    wd.execute_script(\"window.scrollTo(0, document.body.scrollHeight);\")\n",
    "    time.sleep(sleep_between_interactions)"
   ]
  },
  {
   "cell_type": "code",
   "execution_count": 4,
   "metadata": {},
   "outputs": [
    {
     "data": {
      "text/plain": [
       "[<selenium.webdriver.remote.webelement.WebElement (session=\"af4c7a0d31d0e3b8680cd458b84b6017\", element=\"1DA3BA73808399BDE1014F8076347D6B_element_63\")>,\n",
       " <selenium.webdriver.remote.webelement.WebElement (session=\"af4c7a0d31d0e3b8680cd458b84b6017\", element=\"1DA3BA73808399BDE1014F8076347D6B_element_64\")>,\n",
       " <selenium.webdriver.remote.webelement.WebElement (session=\"af4c7a0d31d0e3b8680cd458b84b6017\", element=\"1DA3BA73808399BDE1014F8076347D6B_element_43\")>,\n",
       " <selenium.webdriver.remote.webelement.WebElement (session=\"af4c7a0d31d0e3b8680cd458b84b6017\", element=\"1DA3BA73808399BDE1014F8076347D6B_element_65\")>,\n",
       " <selenium.webdriver.remote.webelement.WebElement (session=\"af4c7a0d31d0e3b8680cd458b84b6017\", element=\"1DA3BA73808399BDE1014F8076347D6B_element_66\")>,\n",
       " <selenium.webdriver.remote.webelement.WebElement (session=\"af4c7a0d31d0e3b8680cd458b84b6017\", element=\"1DA3BA73808399BDE1014F8076347D6B_element_49\")>,\n",
       " <selenium.webdriver.remote.webelement.WebElement (session=\"af4c7a0d31d0e3b8680cd458b84b6017\", element=\"1DA3BA73808399BDE1014F8076347D6B_element_67\")>,\n",
       " <selenium.webdriver.remote.webelement.WebElement (session=\"af4c7a0d31d0e3b8680cd458b84b6017\", element=\"1DA3BA73808399BDE1014F8076347D6B_element_68\")>,\n",
       " <selenium.webdriver.remote.webelement.WebElement (session=\"af4c7a0d31d0e3b8680cd458b84b6017\", element=\"1DA3BA73808399BDE1014F8076347D6B_element_69\")>,\n",
       " <selenium.webdriver.remote.webelement.WebElement (session=\"af4c7a0d31d0e3b8680cd458b84b6017\", element=\"1DA3BA73808399BDE1014F8076347D6B_element_70\")>,\n",
       " <selenium.webdriver.remote.webelement.WebElement (session=\"af4c7a0d31d0e3b8680cd458b84b6017\", element=\"1DA3BA73808399BDE1014F8076347D6B_element_71\")>,\n",
       " <selenium.webdriver.remote.webelement.WebElement (session=\"af4c7a0d31d0e3b8680cd458b84b6017\", element=\"1DA3BA73808399BDE1014F8076347D6B_element_72\")>,\n",
       " <selenium.webdriver.remote.webelement.WebElement (session=\"af4c7a0d31d0e3b8680cd458b84b6017\", element=\"1DA3BA73808399BDE1014F8076347D6B_element_73\")>,\n",
       " <selenium.webdriver.remote.webelement.WebElement (session=\"af4c7a0d31d0e3b8680cd458b84b6017\", element=\"1DA3BA73808399BDE1014F8076347D6B_element_74\")>,\n",
       " <selenium.webdriver.remote.webelement.WebElement (session=\"af4c7a0d31d0e3b8680cd458b84b6017\", element=\"1DA3BA73808399BDE1014F8076347D6B_element_75\")>,\n",
       " <selenium.webdriver.remote.webelement.WebElement (session=\"af4c7a0d31d0e3b8680cd458b84b6017\", element=\"1DA3BA73808399BDE1014F8076347D6B_element_76\")>,\n",
       " <selenium.webdriver.remote.webelement.WebElement (session=\"af4c7a0d31d0e3b8680cd458b84b6017\", element=\"1DA3BA73808399BDE1014F8076347D6B_element_77\")>,\n",
       " <selenium.webdriver.remote.webelement.WebElement (session=\"af4c7a0d31d0e3b8680cd458b84b6017\", element=\"1DA3BA73808399BDE1014F8076347D6B_element_78\")>,\n",
       " <selenium.webdriver.remote.webelement.WebElement (session=\"af4c7a0d31d0e3b8680cd458b84b6017\", element=\"1DA3BA73808399BDE1014F8076347D6B_element_79\")>,\n",
       " <selenium.webdriver.remote.webelement.WebElement (session=\"af4c7a0d31d0e3b8680cd458b84b6017\", element=\"1DA3BA73808399BDE1014F8076347D6B_element_80\")>,\n",
       " <selenium.webdriver.remote.webelement.WebElement (session=\"af4c7a0d31d0e3b8680cd458b84b6017\", element=\"1DA3BA73808399BDE1014F8076347D6B_element_81\")>,\n",
       " <selenium.webdriver.remote.webelement.WebElement (session=\"af4c7a0d31d0e3b8680cd458b84b6017\", element=\"1DA3BA73808399BDE1014F8076347D6B_element_82\")>,\n",
       " <selenium.webdriver.remote.webelement.WebElement (session=\"af4c7a0d31d0e3b8680cd458b84b6017\", element=\"1DA3BA73808399BDE1014F8076347D6B_element_83\")>,\n",
       " <selenium.webdriver.remote.webelement.WebElement (session=\"af4c7a0d31d0e3b8680cd458b84b6017\", element=\"1DA3BA73808399BDE1014F8076347D6B_element_84\")>,\n",
       " <selenium.webdriver.remote.webelement.WebElement (session=\"af4c7a0d31d0e3b8680cd458b84b6017\", element=\"1DA3BA73808399BDE1014F8076347D6B_element_85\")>,\n",
       " <selenium.webdriver.remote.webelement.WebElement (session=\"af4c7a0d31d0e3b8680cd458b84b6017\", element=\"1DA3BA73808399BDE1014F8076347D6B_element_86\")>,\n",
       " <selenium.webdriver.remote.webelement.WebElement (session=\"af4c7a0d31d0e3b8680cd458b84b6017\", element=\"1DA3BA73808399BDE1014F8076347D6B_element_87\")>,\n",
       " <selenium.webdriver.remote.webelement.WebElement (session=\"af4c7a0d31d0e3b8680cd458b84b6017\", element=\"1DA3BA73808399BDE1014F8076347D6B_element_88\")>,\n",
       " <selenium.webdriver.remote.webelement.WebElement (session=\"af4c7a0d31d0e3b8680cd458b84b6017\", element=\"1DA3BA73808399BDE1014F8076347D6B_element_89\")>,\n",
       " <selenium.webdriver.remote.webelement.WebElement (session=\"af4c7a0d31d0e3b8680cd458b84b6017\", element=\"1DA3BA73808399BDE1014F8076347D6B_element_90\")>,\n",
       " <selenium.webdriver.remote.webelement.WebElement (session=\"af4c7a0d31d0e3b8680cd458b84b6017\", element=\"1DA3BA73808399BDE1014F8076347D6B_element_91\")>,\n",
       " <selenium.webdriver.remote.webelement.WebElement (session=\"af4c7a0d31d0e3b8680cd458b84b6017\", element=\"1DA3BA73808399BDE1014F8076347D6B_element_92\")>,\n",
       " <selenium.webdriver.remote.webelement.WebElement (session=\"af4c7a0d31d0e3b8680cd458b84b6017\", element=\"1DA3BA73808399BDE1014F8076347D6B_element_93\")>,\n",
       " <selenium.webdriver.remote.webelement.WebElement (session=\"af4c7a0d31d0e3b8680cd458b84b6017\", element=\"1DA3BA73808399BDE1014F8076347D6B_element_94\")>,\n",
       " <selenium.webdriver.remote.webelement.WebElement (session=\"af4c7a0d31d0e3b8680cd458b84b6017\", element=\"1DA3BA73808399BDE1014F8076347D6B_element_95\")>,\n",
       " <selenium.webdriver.remote.webelement.WebElement (session=\"af4c7a0d31d0e3b8680cd458b84b6017\", element=\"1DA3BA73808399BDE1014F8076347D6B_element_96\")>,\n",
       " <selenium.webdriver.remote.webelement.WebElement (session=\"af4c7a0d31d0e3b8680cd458b84b6017\", element=\"1DA3BA73808399BDE1014F8076347D6B_element_97\")>,\n",
       " <selenium.webdriver.remote.webelement.WebElement (session=\"af4c7a0d31d0e3b8680cd458b84b6017\", element=\"1DA3BA73808399BDE1014F8076347D6B_element_98\")>,\n",
       " <selenium.webdriver.remote.webelement.WebElement (session=\"af4c7a0d31d0e3b8680cd458b84b6017\", element=\"1DA3BA73808399BDE1014F8076347D6B_element_99\")>,\n",
       " <selenium.webdriver.remote.webelement.WebElement (session=\"af4c7a0d31d0e3b8680cd458b84b6017\", element=\"1DA3BA73808399BDE1014F8076347D6B_element_100\")>,\n",
       " <selenium.webdriver.remote.webelement.WebElement (session=\"af4c7a0d31d0e3b8680cd458b84b6017\", element=\"1DA3BA73808399BDE1014F8076347D6B_element_101\")>,\n",
       " <selenium.webdriver.remote.webelement.WebElement (session=\"af4c7a0d31d0e3b8680cd458b84b6017\", element=\"1DA3BA73808399BDE1014F8076347D6B_element_102\")>,\n",
       " <selenium.webdriver.remote.webelement.WebElement (session=\"af4c7a0d31d0e3b8680cd458b84b6017\", element=\"1DA3BA73808399BDE1014F8076347D6B_element_103\")>,\n",
       " <selenium.webdriver.remote.webelement.WebElement (session=\"af4c7a0d31d0e3b8680cd458b84b6017\", element=\"1DA3BA73808399BDE1014F8076347D6B_element_104\")>,\n",
       " <selenium.webdriver.remote.webelement.WebElement (session=\"af4c7a0d31d0e3b8680cd458b84b6017\", element=\"1DA3BA73808399BDE1014F8076347D6B_element_105\")>,\n",
       " <selenium.webdriver.remote.webelement.WebElement (session=\"af4c7a0d31d0e3b8680cd458b84b6017\", element=\"1DA3BA73808399BDE1014F8076347D6B_element_106\")>,\n",
       " <selenium.webdriver.remote.webelement.WebElement (session=\"af4c7a0d31d0e3b8680cd458b84b6017\", element=\"1DA3BA73808399BDE1014F8076347D6B_element_107\")>,\n",
       " <selenium.webdriver.remote.webelement.WebElement (session=\"af4c7a0d31d0e3b8680cd458b84b6017\", element=\"1DA3BA73808399BDE1014F8076347D6B_element_108\")>,\n",
       " <selenium.webdriver.remote.webelement.WebElement (session=\"af4c7a0d31d0e3b8680cd458b84b6017\", element=\"1DA3BA73808399BDE1014F8076347D6B_element_109\")>,\n",
       " <selenium.webdriver.remote.webelement.WebElement (session=\"af4c7a0d31d0e3b8680cd458b84b6017\", element=\"1DA3BA73808399BDE1014F8076347D6B_element_110\")>,\n",
       " <selenium.webdriver.remote.webelement.WebElement (session=\"af4c7a0d31d0e3b8680cd458b84b6017\", element=\"1DA3BA73808399BDE1014F8076347D6B_element_111\")>,\n",
       " <selenium.webdriver.remote.webelement.WebElement (session=\"af4c7a0d31d0e3b8680cd458b84b6017\", element=\"1DA3BA73808399BDE1014F8076347D6B_element_112\")>,\n",
       " <selenium.webdriver.remote.webelement.WebElement (session=\"af4c7a0d31d0e3b8680cd458b84b6017\", element=\"1DA3BA73808399BDE1014F8076347D6B_element_113\")>,\n",
       " <selenium.webdriver.remote.webelement.WebElement (session=\"af4c7a0d31d0e3b8680cd458b84b6017\", element=\"1DA3BA73808399BDE1014F8076347D6B_element_114\")>,\n",
       " <selenium.webdriver.remote.webelement.WebElement (session=\"af4c7a0d31d0e3b8680cd458b84b6017\", element=\"1DA3BA73808399BDE1014F8076347D6B_element_115\")>,\n",
       " <selenium.webdriver.remote.webelement.WebElement (session=\"af4c7a0d31d0e3b8680cd458b84b6017\", element=\"1DA3BA73808399BDE1014F8076347D6B_element_116\")>,\n",
       " <selenium.webdriver.remote.webelement.WebElement (session=\"af4c7a0d31d0e3b8680cd458b84b6017\", element=\"1DA3BA73808399BDE1014F8076347D6B_element_117\")>,\n",
       " <selenium.webdriver.remote.webelement.WebElement (session=\"af4c7a0d31d0e3b8680cd458b84b6017\", element=\"1DA3BA73808399BDE1014F8076347D6B_element_118\")>,\n",
       " <selenium.webdriver.remote.webelement.WebElement (session=\"af4c7a0d31d0e3b8680cd458b84b6017\", element=\"1DA3BA73808399BDE1014F8076347D6B_element_119\")>,\n",
       " <selenium.webdriver.remote.webelement.WebElement (session=\"af4c7a0d31d0e3b8680cd458b84b6017\", element=\"1DA3BA73808399BDE1014F8076347D6B_element_120\")>,\n",
       " <selenium.webdriver.remote.webelement.WebElement (session=\"af4c7a0d31d0e3b8680cd458b84b6017\", element=\"1DA3BA73808399BDE1014F8076347D6B_element_121\")>,\n",
       " <selenium.webdriver.remote.webelement.WebElement (session=\"af4c7a0d31d0e3b8680cd458b84b6017\", element=\"1DA3BA73808399BDE1014F8076347D6B_element_122\")>,\n",
       " <selenium.webdriver.remote.webelement.WebElement (session=\"af4c7a0d31d0e3b8680cd458b84b6017\", element=\"1DA3BA73808399BDE1014F8076347D6B_element_123\")>,\n",
       " <selenium.webdriver.remote.webelement.WebElement (session=\"af4c7a0d31d0e3b8680cd458b84b6017\", element=\"1DA3BA73808399BDE1014F8076347D6B_element_124\")>,\n",
       " <selenium.webdriver.remote.webelement.WebElement (session=\"af4c7a0d31d0e3b8680cd458b84b6017\", element=\"1DA3BA73808399BDE1014F8076347D6B_element_125\")>,\n",
       " <selenium.webdriver.remote.webelement.WebElement (session=\"af4c7a0d31d0e3b8680cd458b84b6017\", element=\"1DA3BA73808399BDE1014F8076347D6B_element_126\")>,\n",
       " <selenium.webdriver.remote.webelement.WebElement (session=\"af4c7a0d31d0e3b8680cd458b84b6017\", element=\"1DA3BA73808399BDE1014F8076347D6B_element_127\")>,\n",
       " <selenium.webdriver.remote.webelement.WebElement (session=\"af4c7a0d31d0e3b8680cd458b84b6017\", element=\"1DA3BA73808399BDE1014F8076347D6B_element_128\")>,\n",
       " <selenium.webdriver.remote.webelement.WebElement (session=\"af4c7a0d31d0e3b8680cd458b84b6017\", element=\"1DA3BA73808399BDE1014F8076347D6B_element_129\")>,\n",
       " <selenium.webdriver.remote.webelement.WebElement (session=\"af4c7a0d31d0e3b8680cd458b84b6017\", element=\"1DA3BA73808399BDE1014F8076347D6B_element_130\")>,\n",
       " <selenium.webdriver.remote.webelement.WebElement (session=\"af4c7a0d31d0e3b8680cd458b84b6017\", element=\"1DA3BA73808399BDE1014F8076347D6B_element_131\")>,\n",
       " <selenium.webdriver.remote.webelement.WebElement (session=\"af4c7a0d31d0e3b8680cd458b84b6017\", element=\"1DA3BA73808399BDE1014F8076347D6B_element_132\")>,\n",
       " <selenium.webdriver.remote.webelement.WebElement (session=\"af4c7a0d31d0e3b8680cd458b84b6017\", element=\"1DA3BA73808399BDE1014F8076347D6B_element_133\")>,\n",
       " <selenium.webdriver.remote.webelement.WebElement (session=\"af4c7a0d31d0e3b8680cd458b84b6017\", element=\"1DA3BA73808399BDE1014F8076347D6B_element_134\")>,\n",
       " <selenium.webdriver.remote.webelement.WebElement (session=\"af4c7a0d31d0e3b8680cd458b84b6017\", element=\"1DA3BA73808399BDE1014F8076347D6B_element_135\")>,\n",
       " <selenium.webdriver.remote.webelement.WebElement (session=\"af4c7a0d31d0e3b8680cd458b84b6017\", element=\"1DA3BA73808399BDE1014F8076347D6B_element_136\")>,\n",
       " <selenium.webdriver.remote.webelement.WebElement (session=\"af4c7a0d31d0e3b8680cd458b84b6017\", element=\"1DA3BA73808399BDE1014F8076347D6B_element_137\")>,\n",
       " <selenium.webdriver.remote.webelement.WebElement (session=\"af4c7a0d31d0e3b8680cd458b84b6017\", element=\"1DA3BA73808399BDE1014F8076347D6B_element_138\")>,\n",
       " <selenium.webdriver.remote.webelement.WebElement (session=\"af4c7a0d31d0e3b8680cd458b84b6017\", element=\"1DA3BA73808399BDE1014F8076347D6B_element_139\")>,\n",
       " <selenium.webdriver.remote.webelement.WebElement (session=\"af4c7a0d31d0e3b8680cd458b84b6017\", element=\"1DA3BA73808399BDE1014F8076347D6B_element_140\")>,\n",
       " <selenium.webdriver.remote.webelement.WebElement (session=\"af4c7a0d31d0e3b8680cd458b84b6017\", element=\"1DA3BA73808399BDE1014F8076347D6B_element_141\")>,\n",
       " <selenium.webdriver.remote.webelement.WebElement (session=\"af4c7a0d31d0e3b8680cd458b84b6017\", element=\"1DA3BA73808399BDE1014F8076347D6B_element_142\")>,\n",
       " <selenium.webdriver.remote.webelement.WebElement (session=\"af4c7a0d31d0e3b8680cd458b84b6017\", element=\"1DA3BA73808399BDE1014F8076347D6B_element_143\")>,\n",
       " <selenium.webdriver.remote.webelement.WebElement (session=\"af4c7a0d31d0e3b8680cd458b84b6017\", element=\"1DA3BA73808399BDE1014F8076347D6B_element_144\")>,\n",
       " <selenium.webdriver.remote.webelement.WebElement (session=\"af4c7a0d31d0e3b8680cd458b84b6017\", element=\"1DA3BA73808399BDE1014F8076347D6B_element_145\")>,\n",
       " <selenium.webdriver.remote.webelement.WebElement (session=\"af4c7a0d31d0e3b8680cd458b84b6017\", element=\"1DA3BA73808399BDE1014F8076347D6B_element_146\")>,\n",
       " <selenium.webdriver.remote.webelement.WebElement (session=\"af4c7a0d31d0e3b8680cd458b84b6017\", element=\"1DA3BA73808399BDE1014F8076347D6B_element_147\")>,\n",
       " <selenium.webdriver.remote.webelement.WebElement (session=\"af4c7a0d31d0e3b8680cd458b84b6017\", element=\"1DA3BA73808399BDE1014F8076347D6B_element_148\")>,\n",
       " <selenium.webdriver.remote.webelement.WebElement (session=\"af4c7a0d31d0e3b8680cd458b84b6017\", element=\"1DA3BA73808399BDE1014F8076347D6B_element_149\")>,\n",
       " <selenium.webdriver.remote.webelement.WebElement (session=\"af4c7a0d31d0e3b8680cd458b84b6017\", element=\"1DA3BA73808399BDE1014F8076347D6B_element_150\")>,\n",
       " <selenium.webdriver.remote.webelement.WebElement (session=\"af4c7a0d31d0e3b8680cd458b84b6017\", element=\"1DA3BA73808399BDE1014F8076347D6B_element_151\")>,\n",
       " <selenium.webdriver.remote.webelement.WebElement (session=\"af4c7a0d31d0e3b8680cd458b84b6017\", element=\"1DA3BA73808399BDE1014F8076347D6B_element_152\")>]"
      ]
     },
     "execution_count": 4,
     "metadata": {},
     "output_type": "execute_result"
    }
   ],
   "source": [
    "links = wd.find_elements(By.ID, \"thumbnail\")\n",
    "unique_video_links = []\n",
    "\n",
    "for i in links:\n",
    "    link = i.get_attribute(\"href\")\n",
    "    if link is not None and link not in unique_video_links:\n",
    "        unique_video_links.append(str(i.get_attribute(\"href\")))"
   ]
  },
  {
   "cell_type": "code",
   "execution_count": 10,
   "metadata": {},
   "outputs": [
    {
     "name": "stdout",
     "output_type": "stream",
     "text": [
      "https://www.youtube.com/watch?v=B2scdmTZ834\n",
      "https://www.youtube.com/watch?v=cgc3dSEAel0\n",
      "https://www.youtube.com/watch?v=cnY6jQlJcQc\n"
     ]
    }
   ],
   "source": [
    "new_list = [unique_video_links[0], unique_video_links[1], unique_video_links[2]]\n",
    "new_list\n",
    "thumbnail = []\n",
    "for i in new_list:\n",
    "    print(i)\n",
    "    wd.get(i)\n",
    "    WebDriverWait(wd, 30).until(EC.presence_of_element_located((By.XPATH, '//*[@id=\"thumbnail\"]/yt-image/img')))\n",
    "    thumbnail.append(wd.find_element(By.XPATH, '//*[@id=\"thumbnail\"]/yt-image/img').get_attribute(\"src\"))\n",
    "    //*[@id=\"thumbnail\"]/yt-image/img"
   ]
  },
  {
   "cell_type": "code",
   "execution_count": 11,
   "metadata": {},
   "outputs": [
    {
     "data": {
      "text/plain": [
       "['https://i.ytimg.com/vi/PxCCzJndruQ/hqdefault.jpg?sqp=-oaymwE1CKgBEF5IVfKriqkDKAgBFQAAiEIYAXABwAEG8AEB-AH-CYAC0AWKAgwIABABGHIgVyg8MA8=&rs=AOn4CLCecHnw-N81-Ut9PB_Ai4dAqVvykA',\n",
       " 'https://i.ytimg.com/vi/WcDaZ67TVRo/hqdefault.jpg?sqp=-oaymwEbCKgBEF5IVfKriqkDDggBFQAAiEIYAXABwAEG&rs=AOn4CLBCIO5YIOwRmKBw_nmJ8Hq2Xa1wWA',\n",
       " 'https://i.ytimg.com/vi/xhB-dmKmzRk/hqdefault.jpg?sqp=-oaymwEbCKgBEF5IVfKriqkDDggBFQAAiEIYAXABwAEG&rs=AOn4CLAxq7KpuaYSnuSc9fPTNk1-Ldav8g']"
      ]
     },
     "execution_count": 11,
     "metadata": {},
     "output_type": "execute_result"
    }
   ],
   "source": [
    "thumbnail"
   ]
  },
  {
   "cell_type": "code",
   "execution_count": null,
   "metadata": {},
   "outputs": [],
   "source": [
    "thumbnail = []\n",
    "title = []\n",
    "likes = []\n",
    "\n",
    "num_of_video = 2\n",
    "start_count = 0\n",
    "\n",
    "while start_count < num_of_video:\n",
    "    for link in video_links:\n",
    "        wd.get(url)\n",
    "        \n",
    "        # Wait for the thumbnail, title, and likes to load\n",
    "        WebDriverWait(wd, 30).until(EC.presence_of_element_located((By.XPATH, '//*[@id=\"thumbnail\"]/yt-image/img')))\n",
    "        WebDriverWait(wd, 30).until(EC.presence_of_element_located((By.CSS_SELECTOR, \"h1.ytd-watch-metadata\")))\n",
    "        WebDriverWait(wd, 30).until(EC.presence_of_element_located((By.XPATH, '//*[@id=\"segmented-like-button\"]/ytd-toggle-button-renderer/yt-button-shape/button/div[2]/span')))\n",
    "        \n",
    "        thumbnail.append(wd.find_element(By.XPATH, '//*[@id=\"thumbnail\"]/yt-image/img').get_attribute(\"src\"))\n",
    "        title.append(wd.find_element(By.CSS_SELECTOR, \"h1.ytd-watch-metadata\").get_attrbute(\"innerText\"))\n",
    "        likes.append(wd.find_element(By.XPATH, '//*[@id=\"segmented-like-button\"]/ytd-toggle-button-renderer/yt-button-shape/button/div[2]/span').get_attrbute(\"innerText\"))\n",
    "        \n",
    "        start_count += 1\n",
    "        if start_count >= num_of_video:\n",
    "            break  # Break the loop if you've collected enough data\n",
    "        \n",
    "        wd.back()  # Go back to the video list page\n"
   ]
  },
  {
   "cell_type": "code",
   "execution_count": null,
   "metadata": {},
   "outputs": [],
   "source": []
  },
  {
   "cell_type": "code",
   "execution_count": null,
   "metadata": {},
   "outputs": [],
   "source": [
    "thumbnail = []\n",
    "title = []\n",
    "likes = []\n",
    "\n",
    "num_of_video = 2\n",
    "start_count = 0\n",
    "\n",
    "while start_count < num_of_video:\n",
    "    for i in video_links:\n",
    "        wd.get(str(i))\n",
    "        # response2 = wd.get(i)\n",
    "        WebDriverWait(wd,10)\n",
    "        thumbnail.append(wd.find_element(By.XPATH, '//*[@id=\"thumbnail\"]/yt-image/img').get_attribute(\"src\")) \n",
    "        WebDriverWait(wd,10)\n",
    "        title.append(wd.find_element(By.CSS_SELECTOR, \"h1.ytd-watch-metadata\").get_attribute(\"innerText\"))\n",
    "        WebDriverWait(wd,10)\n",
    "        likes.append(wd.find_element(By.XPATH, '//*[@id=\"segmented-like-button\"]/ytd-toggle-button-renderer/yt-button-shape/button/div[2]/span').get_attribute(\"innerText\"))"
   ]
  },
  {
   "cell_type": "code",
   "execution_count": null,
   "metadata": {},
   "outputs": [],
   "source": [
    "link1 = video_links[0]"
   ]
  },
  {
   "cell_type": "code",
   "execution_count": null,
   "metadata": {},
   "outputs": [],
   "source": [
    "response2 = wd.get(link1)"
   ]
  },
  {
   "cell_type": "code",
   "execution_count": null,
   "metadata": {},
   "outputs": [],
   "source": [
    "response2"
   ]
  },
  {
   "cell_type": "code",
   "execution_count": null,
   "metadata": {},
   "outputs": [],
   "source": [
    "thumbnail = wd.find_element(By.XPATH, '//*[@id=\"thumbnail\"]/yt-image/img').get_attribute(\"src\")\n",
    "thumbnail"
   ]
  },
  {
   "cell_type": "code",
   "execution_count": null,
   "metadata": {},
   "outputs": [],
   "source": [
    "title = wd.find_element(By.CSS_SELECTOR, \"h1.ytd-watch-metadata\").get_attribute(\"innerText\")\n",
    "title"
   ]
  },
  {
   "cell_type": "code",
   "execution_count": null,
   "metadata": {},
   "outputs": [],
   "source": [
    "likes = wd.find_element(By.XPATH, '//*[@id=\"segmented-like-button\"]/ytd-toggle-button-renderer/yt-button-shape/button/div[2]/span').get_attribute(\"innerText\")\n",
    "likes"
   ]
  },
  {
   "cell_type": "code",
   "execution_count": null,
   "metadata": {},
   "outputs": [],
   "source": [
    "commenter_name = wd.find_element(By.XPATH,  '//*[@id=\"author-text\"]/span').get_attribute(\"innerText\")\n",
    "commenter_name"
   ]
  },
  {
   "cell_type": "code",
   "execution_count": null,
   "metadata": {},
   "outputs": [],
   "source": [
    "comment_date = wd.find_element(By.XPATH,  '//*[@id=\"header-author\"]/yt-formatted-string/a').get_attribute(\"innerText\")\n",
    "comment_date"
   ]
  },
  {
   "cell_type": "code",
   "execution_count": null,
   "metadata": {},
   "outputs": [],
   "source": [
    "comment_content = wd.find_element(By.XPATH,  '//*[@id=\"content-text\"]').get_attribute(\"innerText\")\n",
    "comment_content"
   ]
  },
  {
   "cell_type": "code",
   "execution_count": null,
   "metadata": {},
   "outputs": [],
   "source": [
    "replies = wd.find_element(By.ID,  'replies')\n",
    "replies.text.startswith('1 reply')\n",
    "replies.find_element(By.XPATH, '//*[@id=\"less-replies\"]/yt-button-shape/button/yt-touch-feedback-shape/div').click()"
   ]
  },
  {
   "cell_type": "code",
   "execution_count": null,
   "metadata": {},
   "outputs": [],
   "source": [
    "if replies.text.startswith('reply'): # check if there are any replies\n",
    "    print(replies)\n",
    "    replies.find_element(By.CSS_SELECTOR, 'a').click() # if so open the replies\n",
    "    time.sleep(3) # wait for load (better strategy should be used here\n",
    "\n",
    "    for reply in replies.find_elements(By.ID, 'author-text'):\n",
    "        reply_channel = reply.get_attribute('href')\n",
    "        print('Reply channel: ' + reply_channel) # print the channel of each reply"
   ]
  },
  {
   "cell_type": "code",
   "execution_count": null,
   "metadata": {},
   "outputs": [],
   "source": []
  }
 ],
 "metadata": {
  "kernelspec": {
   "display_name": "youtube",
   "language": "python",
   "name": "python3"
  },
  "language_info": {
   "codemirror_mode": {
    "name": "ipython",
    "version": 3
   },
   "file_extension": ".py",
   "mimetype": "text/x-python",
   "name": "python",
   "nbconvert_exporter": "python",
   "pygments_lexer": "ipython3",
   "version": "3.9.0"
  },
  "orig_nbformat": 4
 },
 "nbformat": 4,
 "nbformat_minor": 2
}
