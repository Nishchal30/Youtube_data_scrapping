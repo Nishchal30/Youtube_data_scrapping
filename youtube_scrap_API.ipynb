{
 "cells": [
  {
   "cell_type": "code",
   "execution_count": 1,
   "metadata": {},
   "outputs": [],
   "source": [
    "from googleapiclient.discovery import build\n",
    "from selenium import webdriver\n",
    "from selenium.webdriver.common.by import By\n",
    "import os, time\n",
    "from selenium.webdriver.chrome.service import Service\n",
    "from datetime import datetime as dt\n",
    "import googleapiclient.errors"
   ]
  },
  {
   "cell_type": "code",
   "execution_count": 2,
   "metadata": {},
   "outputs": [],
   "source": [
    "DEVELOPER_KEY = YOUR_API_KEY\n",
    "YOUTUBE_API_SERVICE_NAME = \"youtube\"\n",
    "YOUTUBE_API_VERSION = \"v3\"\n",
    "  \n",
    "# creating youtube resource object\n",
    "# for interacting with API\n",
    "youtube = build(YOUTUBE_API_SERVICE_NAME, \n",
    "                     YOUTUBE_API_VERSION,\n",
    "            developerKey = DEVELOPER_KEY)"
   ]
  },
  {
   "cell_type": "markdown",
   "metadata": {},
   "source": [
    "### **This function will return the channel ID by passing the name of youtuber**"
   ]
  },
  {
   "cell_type": "code",
   "execution_count": null,
   "metadata": {},
   "outputs": [],
   "source": [
    "def get_channel_ID(youtube, channel_name):\n",
    "    \n",
    "    try:\n",
    "        search_response = youtube.search().list(\n",
    "        q=channel_name,\n",
    "        type=\"channel\",\n",
    "        part=\"id\"\n",
    "        ).execute()\n",
    "    \n",
    "        channel_ID = search_response['items'][0]['id']['channelId']\n",
    "        return channel_ID\n",
    "    \n",
    "    except googleapiclient.errors.HttpError as e:\n",
    "        status_code = e.resp.status\n",
    "        error_message = e.content.decode(\"utf-8\")\n",
    "        print(f\"HTTP status code: {status_code}\")\n",
    "        print(f\"Error message: {error_message}\")"
   ]
  },
  {
   "cell_type": "markdown",
   "metadata": {},
   "source": [
    "### **This function will return the channel code by passing the name of youtuber**"
   ]
  },
  {
   "cell_type": "code",
   "execution_count": null,
   "metadata": {},
   "outputs": [],
   "source": [
    "def get_playlistID(youtube, channel_name):\n",
    "\n",
    "    try:\n",
    "        chrome_service = Service(executable_path='chromedriver.exe')\n",
    "        wd = webdriver.Chrome(service=chrome_service)\n",
    "        sleep_between_interactions = 1\n",
    "\n",
    "        url = \"https://www.youtube.com/results?search_query={}\".format(channel_name.replace(\" \", \"\"))\n",
    "        print(url)\n",
    "        wd.get(url)\n",
    "        time.sleep(5)\n",
    "\n",
    "        search_response = youtube.search().list(\n",
    "        q=channel_name,\n",
    "        type=\"channel\",\n",
    "        part=\"id\"\n",
    "        ).execute()\n",
    "        \n",
    "        # video_url = wd.find_element(By.ID, \"main-link\").get_attribute(\"href\")\n",
    "        # print(video_url)   \n",
    "        # wd.get(video_url)\n",
    "        # time.sleep(5)\n",
    "        # channel_id = wd.find_element(By.XPATH, '//*[@id=\"first-link\"]/span/a').get_attribute('href').split(\"channel/\")[-1]\n",
    "        # wd.quit()\n",
    "        # return channel_id\n",
    "        \n",
    "        # video_url = wd.find_element(By.ID, \"main-link\").get_attribute(\"href\")\n",
    "        # username = video_url.split(\"@\")[1]\n",
    "        # wd.quit()\n",
    "        # return username\n",
    "\n",
    "\n",
    "\n",
    "    except googleapiclient.errors.HttpError as e:\n",
    "        status_code = e.resp.status\n",
    "        error_message = e.content.decode(\"utf-8\")\n",
    "        print(f\"HTTP status code: {status_code}\")\n",
    "        print(f\"Error message: {error_message}\")"
   ]
  },
  {
   "cell_type": "code",
   "execution_count": null,
   "metadata": {},
   "outputs": [],
   "source": [
    "playlist_id = get_playlistID(youtube, \"technical guruji\")\n",
    "playlist_id"
   ]
  },
  {
   "cell_type": "code",
   "execution_count": null,
   "metadata": {},
   "outputs": [],
   "source": [
    "from googleapiclient.errors import HttpError\n",
    "try:\n",
    "    request = youtube.channels().list(\n",
    "        part=\"snippet,contentDetails,statistics\",\n",
    "        id = playlist_id\n",
    "    )\n",
    "    response = request.execute()\n",
    "\n",
    "    print(response)\n",
    "\n",
    "except HttpError as e:\n",
    "    print(f\"An HTTP error occurred: {e}\")\n",
    "except Exception as e:\n",
    "    print(f\"An error occurred: {e}\")"
   ]
  },
  {
   "cell_type": "markdown",
   "metadata": {},
   "source": [
    "### **this function will return the channel info using the channel code from above function**"
   ]
  },
  {
   "cell_type": "code",
   "execution_count": null,
   "metadata": {},
   "outputs": [],
   "source": [
    "def get_channel_info(youtube, username):\n",
    "\n",
    "    try:\n",
    "        channel_info = {}\n",
    "        channel_response = youtube.channels().list(\n",
    "            part=\"snippet,contentDetails,statistics\",\n",
    "            forUsername = username\n",
    "        ).execute()\n",
    "        \n",
    "        channel_info = dict(\n",
    "        channel_id = channel_response.get(\"items\", [])[0]['id'],\n",
    "        channel_name = channel_response.get(\"items\", [])[0]['snippet']['title'],\n",
    "        playlist_ID = channel_response.get(\"items\", [])[0]['contentDetails']['relatedPlaylists']['uploads']\n",
    "        # subscriber_count = channel_response.get(\"items\", [])[0]['statistics']['subscriberCount'],\n",
    "        # video_count = channel_response.get(\"items\", [])[0]['statistics']['videoCount']\n",
    "        )\n",
    "\n",
    "        return channel_info\n",
    "    \n",
    "    except googleapiclient.errors.HttpError as e:\n",
    "        status_code = e.resp.status\n",
    "        error_message = e.content.decode(\"utf-8\")\n",
    "        print(f\"HTTP status code: {status_code}\")\n",
    "        print(f\"Error message: {error_message}\")"
   ]
  },
  {
   "cell_type": "code",
   "execution_count": null,
   "metadata": {},
   "outputs": [],
   "source": [
    "channel_info = get_channel_info(youtube, username=username1)\n",
    "channel_info"
   ]
  },
  {
   "cell_type": "markdown",
   "metadata": {},
   "source": [
    "### **this function will retrive all the video IDs present in the channel and return the dict with first 100 video IDs**"
   ]
  },
  {
   "cell_type": "code",
   "execution_count": null,
   "metadata": {},
   "outputs": [],
   "source": [
    "def get_all_video_ID(youtube, playlistid):\n",
    "    \n",
    "    try:\n",
    "        video_details = []\n",
    "        video_ids = []\n",
    "        request_video_ID = youtube.playlistItems().list(\n",
    "            part=\"contentDetails,snippet\",\n",
    "            maxResults=50,\n",
    "            playlistId = playlistid,\n",
    "        )\n",
    "\n",
    "        response = request_video_ID.execute()\n",
    "        video_details.extend(response[\"items\"])\n",
    "\n",
    "        while \"nextPageToken\" in response:\n",
    "                nextPageToken = response[\"nextPageToken\"]\n",
    "                request = youtube.playlistItems().list(\n",
    "                    part=\"contentDetails,snippet\",\n",
    "                    maxResults=50,\n",
    "                    playlistId = playlistid,\n",
    "                    pageToken=nextPageToken,\n",
    "                )\n",
    "                response = request.execute()\n",
    "                video_details.extend(response[\"items\"])\n",
    "        \n",
    "        for i in range(len(video_details)):\n",
    "            video_ids.append(video_details[i]['contentDetails']['videoId'])\n",
    "\n",
    "        return dict(channel_id = playlistid,\n",
    "                    video_ids = video_ids[:100])\n",
    "        \n",
    "    except googleapiclient.errors.HttpError as e:\n",
    "        status_code = e.resp.status\n",
    "        error_message = e.content.decode(\"utf-8\")\n",
    "        print(f\"HTTP status code: {status_code}\")\n",
    "        print(f\"Error message: {error_message}\")"
   ]
  },
  {
   "cell_type": "code",
   "execution_count": null,
   "metadata": {},
   "outputs": [],
   "source": [
    "channel_video_dict = get_all_video_ID(youtube, channel_info['playlist_ID'])"
   ]
  },
  {
   "cell_type": "code",
   "execution_count": null,
   "metadata": {},
   "outputs": [],
   "source": [
    "channel_video_dict"
   ]
  },
  {
   "cell_type": "code",
   "execution_count": null,
   "metadata": {},
   "outputs": [],
   "source": [
    "def get_video_details(video_dict):\n",
    "        try:\n",
    "                video_info = []\n",
    "                request = youtube.videos().list(\n",
    "                        part = 'snippet,statistics,contentDetails',\n",
    "                        id = \",\".join(video_dict['video_ids'][:50])\n",
    "                )\n",
    "                response = request.execute()\n",
    "                video_info.extend(response[\"items\"])\n",
    "\n",
    "\n",
    "                request1 = youtube.videos().list(\n",
    "                        part = 'snippet,statistics,contentDetails',\n",
    "                        id = \",\".join(video_dict['video_ids'][50:])\n",
    "                )\n",
    "                response1 = request1.execute()\n",
    "                video_info.extend(response1[\"items\"])          \n",
    "\n",
    "                return video_info\n",
    "\n",
    "        except googleapiclient.errors.HttpError as e:\n",
    "                status_code = e.resp.status\n",
    "                error_message = e.content.decode(\"utf-8\")\n",
    "                print(f\"HTTP status code: {status_code}\")\n",
    "                print(f\"Error message: {error_message}\")"
   ]
  },
  {
   "cell_type": "code",
   "execution_count": null,
   "metadata": {},
   "outputs": [],
   "source": [
    "video_info = get_video_details(channel_video_dict)"
   ]
  },
  {
   "cell_type": "code",
   "execution_count": null,
   "metadata": {},
   "outputs": [],
   "source": [
    "video_info"
   ]
  },
  {
   "cell_type": "markdown",
   "metadata": {},
   "source": [
    "## Calculate time duration of videos"
   ]
  },
  {
   "cell_type": "code",
   "execution_count": null,
   "metadata": {},
   "outputs": [],
   "source": [
    "def remove_shorts_videos(video_info):\n",
    "\n",
    "    try:\n",
    "        video_duration_seconds = []\n",
    "        short_video_duration_threshold = 120\n",
    "        non_short_videos = []\n",
    "\n",
    "        for i in range(len(video_info)):\n",
    "            if \"S\" in video_info[i]['contentDetails']['duration'] and \"M\" not in video_info[i]['contentDetails']['duration']:\n",
    "                video_duration_seconds.append(int(video_info[i]['contentDetails']['duration'].split(\"T\")[-1].split(\"S\")[0]))\n",
    "\n",
    "            if \"H\" in video_info[i]['contentDetails']['duration']:\n",
    "                video_duration_seconds.append(int(video_info[i]['contentDetails']['duration'].split(\"T\")[-1].split(\"H\")[0]) * 3600)\n",
    "\n",
    "            if \"M\" in video_info[i]['contentDetails']['duration'] and \"H\" not in video_info[i]['contentDetails']['duration']:\n",
    "                video_duration_seconds.append(int(video_info[i]['contentDetails']['duration'].split(\"T\")[-1].split(\"M\")[0]) * 60)\n",
    "\n",
    "\n",
    "        no_of_videos = len(non_short_videos)\n",
    "\n",
    "        for i, duration in enumerate(video_duration_seconds):\n",
    "            if no_of_videos >= 50:\n",
    "                break\n",
    "\n",
    "            if duration > short_video_duration_threshold:\n",
    "                non_short_videos.append(channel_video_dict['video_ids'][i])\n",
    "                no_of_videos += 1\n",
    "\n",
    "        channel_video_info = dict(channel_id = channel_info['channel_id'], video_ids = non_short_videos)\n",
    "\n",
    "        return channel_video_info\n",
    "\n",
    "    except googleapiclient.errors.HttpError as e:\n",
    "        status_code = e.resp.status\n",
    "        error_message = e.content.decode(\"utf-8\")\n",
    "        print(f\"HTTP status code: {status_code}\")\n",
    "        print(f\"Error message: {error_message}\")\n"
   ]
  },
  {
   "cell_type": "code",
   "execution_count": null,
   "metadata": {},
   "outputs": [],
   "source": [
    "channel_video_list = remove_shorts_videos(video_info)"
   ]
  },
  {
   "cell_type": "code",
   "execution_count": null,
   "metadata": {},
   "outputs": [],
   "source": [
    "def get_final_video_details(video_list):\n",
    "\n",
    "    video_desc = {}\n",
    "    final_video_info = []\n",
    "    \n",
    "    \n",
    "    try:\n",
    "        request = youtube.videos().list(\n",
    "        part = 'snippet,statistics,contentDetails',\n",
    "        id = \",\".join(video_list['video_ids'])\n",
    "        )\n",
    "        response = request.execute()\n",
    "\n",
    "        video_desc = dict(\n",
    "        channel_ID = [response['items'][i]['snippet']['channelId'] for i in range(len(response['items']))],\n",
    "        video_ID = [response['items'][i]['id'] for i in range(len(response['items']))],\n",
    "        video_published_date = [dt.strptime(response['items'][i]['snippet']['publishedAt'], \"%Y-%m-%dT%H:%M:%SZ\").strftime(\"%Y-%m-%d\") for i in range(len(response['items']))],\n",
    "        video_title = [response['items'][i]['snippet']['title'] for i in range(len(response['items']))],\n",
    "        video_views = [response['items'][i]['statistics']['viewCount'] for i in range(len(response['items']))],\n",
    "        video_likes = [response['items'][i]['statistics']['likeCount'] for i in range(len(response['items']))],\n",
    "        video_comments = [response['items'][i]['statistics']['commentCount'] for i in range(len(response['items']))],\n",
    "        video_thumbnail = [response['items'][i]['snippet']['thumbnails']['high']['url'] for i in range(len(response['items']))],\n",
    "        video_links = [\"https://www.youtube.com/watch?v=\"+response['items'][i]['id'] for i in range(len(response['items']))]\n",
    "        )\n",
    "        \n",
    "        final_video_info.append(video_desc)\n",
    "\n",
    "        return final_video_info\n",
    "\n",
    "    except googleapiclient.errors.HttpError as e:\n",
    "        status_code = e.resp.status\n",
    "        error_message = e.content.decode(\"utf-8\")\n",
    "        print(f\"HTTP status code: {status_code}\")\n",
    "        print(f\"Error message: {error_message}\")"
   ]
  },
  {
   "cell_type": "code",
   "execution_count": null,
   "metadata": {},
   "outputs": [],
   "source": [
    "get_final_video_details(channel_video_list)"
   ]
  },
  {
   "cell_type": "code",
   "execution_count": null,
   "metadata": {},
   "outputs": [],
   "source": [
    "channel_video_list"
   ]
  },
  {
   "cell_type": "code",
   "execution_count": null,
   "metadata": {},
   "outputs": [],
   "source": [
    "request = youtube.videos().list(\n",
    "        part = 'snippet,statistics,contentDetails',\n",
    "        id = \",\".join(channel_video_list['video_ids'])\n",
    ")\n",
    "response = request.execute()"
   ]
  },
  {
   "cell_type": "code",
   "execution_count": null,
   "metadata": {},
   "outputs": [],
   "source": [
    "len(response['items'])"
   ]
  },
  {
   "cell_type": "code",
   "execution_count": null,
   "metadata": {},
   "outputs": [],
   "source": [
    "len(response)"
   ]
  },
  {
   "cell_type": "code",
   "execution_count": null,
   "metadata": {},
   "outputs": [],
   "source": [
    "for i in range(len(response['items'])):\n",
    "    print(response['items'][i]['statistics']['viewCount'])"
   ]
  },
  {
   "cell_type": "code",
   "execution_count": null,
   "metadata": {},
   "outputs": [],
   "source": [
    "channel_ID = [response['items'][i]['snippet']['channelId'] for i in range(len(response['items']))]\n",
    "video_ID = [response['items'][i]['id'] for i in range(len(response['items']))]\n",
    "video_published_date = [dt.strptime(response['items'][i]['snippet']['publishedAt'], \"%Y-%m-%dT%H:%M:%SZ\").strftime(\"%Y-%m-%d\") for i in range(len(response['items']))]\n",
    "video_title = [response['items'][i]['snippet']['title'] for i in range(len(response['items']))]\n",
    "video_views = [response['items'][i]['statistics']['viewCount'] for i in range(len(response['items']))]\n",
    "video_likes = [response['items'][i]['statistics']['likeCount'] for i in range(len(response['items']))]\n",
    "video_comments = [response['items'][i]['statistics']['commentCount'] for i in range(len(response['items']))]\n",
    "video_thumbnail = [response['items'][i]['snippet']['thumbnails']['high']['url'] for i in range(len(response['items']))]\n",
    "video_links = [\"https://www.youtube.com/watch?v=\"+response['items'][i]['id'] for i in range(len(response['items']))]"
   ]
  },
  {
   "cell_type": "code",
   "execution_count": null,
   "metadata": {},
   "outputs": [],
   "source": [
    "video_desc = {}\n",
    "video_desc = dict(\n",
    "channel_ID = [response['items'][i]['snippet']['channelId'] for i in range(len(response['items']))],\n",
    "video_ID = [response['items'][i]['id'] for i in range(len(response['items']))],\n",
    "video_published_date = [dt.strptime(response['items'][i]['snippet']['publishedAt'], \"%Y-%m-%dT%H:%M:%SZ\").strftime(\"%Y-%m-%d\") for i in range(len(response['items']))],\n",
    "video_title = [response['items'][i]['snippet']['title'] for i in range(len(response['items']))],\n",
    "video_views = [response['items'][i]['statistics']['viewCount'] for i in range(len(response['items']))],\n",
    "video_likes = [response['items'][i]['statistics']['likeCount'] for i in range(len(response['items']))],\n",
    "video_comments = [response['items'][i]['statistics']['commentCount'] for i in range(len(response['items']))],\n",
    "video_thumbnail = [response['items'][i]['snippet']['thumbnails']['high']['url'] for i in range(len(response['items']))],\n",
    "video_links = [\"https://www.youtube.com/watch?v=\"+response['items'][i]['id'] for i in range(len(response['items']))]\n",
    ")"
   ]
  },
  {
   "cell_type": "code",
   "execution_count": null,
   "metadata": {},
   "outputs": [],
   "source": [
    "final_video_info = []\n",
    "final_video_info.append(video_desc)"
   ]
  },
  {
   "cell_type": "code",
   "execution_count": null,
   "metadata": {},
   "outputs": [],
   "source": [
    "for i in range(len(final_video_info)):\n",
    "    print(final_video_info[i]['channel_ID'])"
   ]
  },
  {
   "cell_type": "code",
   "execution_count": null,
   "metadata": {},
   "outputs": [],
   "source": [
    "len(video_data['video_ID'])"
   ]
  },
  {
   "cell_type": "code",
   "execution_count": null,
   "metadata": {},
   "outputs": [],
   "source": [
    "count_video = 0\n",
    "for i in video_data:\n",
    "    print(len(['video_ID']))"
   ]
  },
  {
   "cell_type": "code",
   "execution_count": null,
   "metadata": {},
   "outputs": [],
   "source": [
    "# import googleapiclient.errors\n",
    "\n",
    "# try:\n",
    "#     pass\n",
    "\n",
    "# except googleapiclient.errors.HttpError as e:\n",
    "#     status_code = e.resp.status\n",
    "#     error_message = e.content.decode(\"utf-8\")\n",
    "#     print(f\"HTTP status code: {status_code}\")\n",
    "#     print(f\"Error message: {error_message}\")"
   ]
  }
 ],
 "metadata": {
  "kernelspec": {
   "display_name": "youtube",
   "language": "python",
   "name": "python3"
  },
  "language_info": {
   "codemirror_mode": {
    "name": "ipython",
    "version": 3
   },
   "file_extension": ".py",
   "mimetype": "text/x-python",
   "name": "python",
   "nbconvert_exporter": "python",
   "pygments_lexer": "ipython3",
   "version": "3.9.0"
  },
  "orig_nbformat": 4
 },
 "nbformat": 4,
 "nbformat_minor": 2
}
